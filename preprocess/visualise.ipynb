{
 "cells": [
  {
   "cell_type": "code",
   "execution_count": null,
   "metadata": {},
   "outputs": [],
   "source": [
    "import numpy as np\n",
    "import h5py\n",
    "import pandas as pd\n",
    "import math\n",
    "import matplotlib.pyplot as plt\n",
    "from collections import defaultdict "
   ]
  },
  {
   "cell_type": "code",
   "execution_count": null,
   "metadata": {},
   "outputs": [],
   "source": [
    "dataset_path = \"../dataset/carlos2019b.hdf5\"\n",
    "\n",
    "condition = {\"good\": 0, \"bad\": 1, \"other\": -1}\n",
    "dataset = []\n",
    "\n",
    "def sample_data(name, obj):\n",
    "    d = defaultdict(None)\n",
    "    for (name, value) in obj.attrs.items():\n",
    "        if(isinstance(value, bytes)):\n",
    "            value = value.decode('utf-8')\n",
    "        d[name] = value\n",
    "    return d\n",
    "\n",
    "def sensor_data(items):\n",
    "    d = defaultdict(lambda: np.array([]))\n",
    "    for (name, value) in items:\n",
    "        d[name] = value[0:]\n",
    "    return d\n",
    "\n",
    "with h5py.File(dataset_path, \"r\") as f:\n",
    "    i = 0\n",
    "    for (name, value) in f['samples'].items():\n",
    "        send = sensor_data(value.items())\n",
    "        smpl = sample_data(name, value)\n",
    "        dataset.append({**smpl, **send})\n",
    "carlos2019b = pd.DataFrame(dataset)\n",
    "carlos2019b"
   ]
  }
 ],
 "metadata": {
  "kernelspec": {
   "display_name": "tfgpu",
   "language": "python",
   "name": "tfgpu"
  },
  "language_info": {
   "codemirror_mode": {
    "name": "ipython",
    "version": 3
   },
   "file_extension": ".py",
   "mimetype": "text/x-python",
   "name": "python",
   "nbconvert_exporter": "python",
   "pygments_lexer": "ipython3",
   "version": "3.8.5-final"
  }
 },
 "nbformat": 4,
 "nbformat_minor": 4
}